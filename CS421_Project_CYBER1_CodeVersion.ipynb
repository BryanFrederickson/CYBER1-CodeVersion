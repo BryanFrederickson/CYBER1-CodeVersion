{
  "nbformat": 4,
  "nbformat_minor": 0,
  "metadata": {
    "colab": {
      "provenance": [],
      "private_outputs": true
    },
    "kernelspec": {
      "name": "python3",
      "display_name": "Python 3"
    },
    "language_info": {
      "name": "python"
    }
  },
  "cells": [
    {
      "cell_type": "code",
      "source": [],
      "metadata": {
        "id": "Whvy8hF4wY17"
      },
      "execution_count": null,
      "outputs": []
    },
    {
      "cell_type": "markdown",
      "source": [
        "Import neccesary libraries for **functionality**"
      ],
      "metadata": {
        "id": "NodYFnqwbkY5"
      }
    },
    {
      "cell_type": "code",
      "execution_count": null,
      "metadata": {
        "id": "X6V0GEu7Qqz_"
      },
      "outputs": [],
      "source": [
        "import tkinter as tk\n",
        "import ast as ast\n",
        "import matplotlib.pyplot as plt\n",
        "import numpy as np"
      ]
    },
    {
      "cell_type": "markdown",
      "source": [
        "# LibCST basic Functionality Tests\n",
        "General applications of LibCST (https://github.com/Instagram/LibCST)"
      ],
      "metadata": {
        "id": "ISORyIzKrIvy"
      }
    },
    {
      "cell_type": "markdown",
      "source": [
        "Setup functions, all required to be run in sequence for tests below"
      ],
      "metadata": {
        "id": "Pb9Es8NT7a3r"
      }
    },
    {
      "cell_type": "code",
      "source": [
        "# install libCST\n",
        "!pip install libcst"
      ],
      "metadata": {
        "id": "_Mjvm8ytrHcV"
      },
      "execution_count": null,
      "outputs": []
    },
    {
      "cell_type": "code",
      "source": [
        "# libCST functionality\n",
        "import libcst\n",
        "from libcst.tool import dump\n",
        "from libcst.metadata import MetadataWrapper, ParentNodeProvider"
      ],
      "metadata": {
        "id": "5aGm-a09lwmo"
      },
      "execution_count": null,
      "outputs": []
    },
    {
      "cell_type": "code",
      "source": [
        "# note that only one python file input is assumed, otherwise it only saves the data of the last file\n",
        "try:\n",
        "    from google.colab import files\n",
        "    uploaded = files.upload()\n",
        "except ImportError as e:\n",
        "    pass\n",
        "\n",
        "\n",
        "filenames = uploaded.keys()\n",
        "\n",
        "for file in filenames:\n",
        "    data = uploaded[file]"
      ],
      "metadata": {
        "id": "oY2ey_tFrngn"
      },
      "execution_count": null,
      "outputs": []
    },
    {
      "cell_type": "markdown",
      "source": [
        "Assorted LibCST tests (requires above file upload to work)"
      ],
      "metadata": {
        "id": "jAL4DV351nAC"
      }
    },
    {
      "cell_type": "markdown",
      "source": [
        "Dump the entire CST for the imported data"
      ],
      "metadata": {
        "id": "sHIDppx67RiD"
      }
    },
    {
      "cell_type": "code",
      "source": [
        "# convert given file to libCST (https://libcst.readthedocs.io/en/latest/parser.html)\n",
        "print(dump(libcst.parse_module(data)))"
      ],
      "metadata": {
        "id": "NmsGQBxyxnKx"
      },
      "execution_count": null,
      "outputs": []
    },
    {
      "cell_type": "markdown",
      "source": [
        "Print scrope of every function in the CST"
      ],
      "metadata": {
        "id": "oTK9aA3V7UiS"
      }
    },
    {
      "cell_type": "code",
      "source": [
        "# or convert and see scope (https://libcst.readthedocs.io/en/latest/scope_tutorial.html)\n",
        "wrapper = libcst.metadata.MetadataWrapper(libcst.parse_module(data))\n",
        "scopes = set(wrapper.resolve(libcst.metadata.ScopeProvider).values())\n",
        "for scope in scopes:\n",
        "    print(scope)"
      ],
      "metadata": {
        "id": "E7nC_6XezTzl"
      },
      "execution_count": null,
      "outputs": []
    },
    {
      "cell_type": "markdown",
      "source": [
        "Test function given by LibCST docs, prints all simple strings in a function if the function name is not 'foo'"
      ],
      "metadata": {
        "id": "EetHNwcZ7J0Q"
      }
    },
    {
      "cell_type": "code",
      "source": [
        "# if function name is not foo, print any simple strings found inside (https://libcst.readthedocs.io/en/latest/visitors.html#visit-and-leave-helper-functions)\n",
        "class FooingAround(libcst.CSTVisitor):\n",
        "    def visit_FunctionDef(self, node: libcst.FunctionDef) -> bool:\n",
        "        print(node.name.value)\n",
        "\n",
        "    def visit_SimpleString(self, node: libcst.SimpleString) -> None:\n",
        "        print(node.value)\n",
        "\n",
        "\n",
        "#demo = libcst.parse_module(\"'abc'\\n'123'\\ndef foo():\\n    'not printed'\\ndef blah():\\n    'printed'\")\n",
        "demo = libcst.parse_module(data)\n",
        "\n",
        "_ = demo.visit(FooingAround())"
      ],
      "metadata": {
        "id": "pg17AoWJmbcf"
      },
      "execution_count": null,
      "outputs": []
    },
    {
      "cell_type": "markdown",
      "source": [
        "Print function names found in CST or function calls"
      ],
      "metadata": {
        "id": "zGUKOcRb66Xp"
      }
    },
    {
      "cell_type": "code",
      "source": [
        "# print function names\n",
        "class FuncNames(libcst.CSTVisitor):\n",
        "    def visit_FunctionDef(self, node: libcst.FunctionDef) -> bool:\n",
        "        print(node.name.value)\n",
        "\n",
        "func_names = libcst.parse_module(data)\n",
        "\n",
        "_ = func_names.visit(FuncNames())"
      ],
      "metadata": {
        "id": "zoQW7mC8cw_O"
      },
      "execution_count": null,
      "outputs": []
    },
    {
      "cell_type": "code",
      "source": [
        "# print function calls\n",
        "class FuncCalls(libcst.CSTVisitor):\n",
        "    # (https://libcst.readthedocs.io/_/downloads/en/latest/pdf/#page=53&zoom=auto,-205,721)\n",
        "    def visit_Call(self, node: libcst.Call) -> bool:\n",
        "      if (type(node.func)) is libcst._nodes.expression.Name:\n",
        "        print(\"Function call name: \"+node.func.value)\n",
        "      elif (type(node.func)) is libcst._nodes.expression.Attribute:\n",
        "        print(\"Function call attribute: \"+node.func.value.value+\".\"+node.func.attr.value)\n",
        "\n",
        "func_calls = libcst.parse_module(data)\n",
        "\n",
        "_ = func_calls.visit(FuncCalls())"
      ],
      "metadata": {
        "id": "Mdefmdii4EBM"
      },
      "execution_count": null,
      "outputs": []
    },
    {
      "cell_type": "markdown",
      "source": [
        "Print function names and import aliases found in CST"
      ],
      "metadata": {
        "id": "PkS766dP62f_"
      }
    },
    {
      "cell_type": "code",
      "source": [
        "# print function names and import aliases\n",
        "class FuncNames(libcst.CSTVisitor):\n",
        "    def visit_FunctionDef(self, node: libcst.FunctionDef) -> bool:\n",
        "        print(node.name.value+\" is a function def\")\n",
        "\n",
        "    def visit_ImportAlias(self, node: libcst.ImportAlias) -> bool:\n",
        "        curr=node.asname\n",
        "        # the import may not specify an alias, only print aliases of imported functions\n",
        "        # https://libcst.readthedocs.io/_/downloads/en/latest/pdf/#page=78&zoom=auto,-205,314\n",
        "        if curr:\n",
        "          print(curr.name.value+ \" is an alias of imported \"+node.name.value)\n",
        "\n",
        "\n",
        "#demo = libcst.parse_module(\"'abc'\\n'123'\\ndef foo():\\n    'not printed'\\ndef blah():\\n    'printed'\")\n",
        "all_func_names = libcst.parse_module(data)\n",
        "\n",
        "_ = all_func_names.visit(FuncNames())"
      ],
      "metadata": {
        "id": "d0AcB1iQvFXS"
      },
      "execution_count": null,
      "outputs": []
    },
    {
      "cell_type": "markdown",
      "source": [
        "Function renamer (simple implementation, incomplete, mainly to test transformers)"
      ],
      "metadata": {
        "id": "TERik_YL7BS_"
      }
    },
    {
      "cell_type": "code",
      "source": [
        "# edit all function names if encountered (note that changes with transforms happen on leaving a node, so name functions leave_NodeType)\n",
        "\n",
        "# for choosing a function name\n",
        "import random\n",
        "\n",
        "# placeholder list to replace function names with\n",
        "colors = ['aliceblue','antiquewhite','aqua','aquamarine','azure','beige','bisque','black','blanchedalmond',\n",
        "          'blue','blueviolet','brown','burlywood','cadetblue','chartreuse','chocolate','coral','cornflowerblue',\n",
        "          'cornsilk','crimson','cyan','darkblue','darkcyan','darkgoldenrod','darkgray','darkgreen','darkkhaki',\n",
        "          'darkmagenta','darkolivegreen','darkorange','darkorchid','darkred','darksalmon','darkseagreen',\n",
        "          'darkslateblue','darkslategray','darkturquoise','darkviolet','deeppink','deepskyblue','dimgray',\n",
        "          'dodgerblue','firebrick','floralwhite','forestgreen','fuchsia','gainsboro','ghostwhite','gold','goldenrod',\n",
        "          'gray','green','greenyellow','honeydew','hotpink','indianred','indigo','ivory','khaki','lavender',\n",
        "          'lavenderblush','lawngreen','lemonchiffon','lightblue','lightcoral','lightcyan','lightgoldenrodyellow',\n",
        "          'lightgreen','lightgray','lightpink','lightsalmon','lightseagreen','lightskyblue','lightslategray',\n",
        "          'lightsteelblue','lightyellow','lime','limegreen','linen','magenta','maroon','mediumaquamarine','mediumblue',\n",
        "          'mediumorchid','mediumpurple','mediumseagreen','mediumslateblue','mediumspringgreen','mediumturquoise',\n",
        "          'mediumvioletred','midnightblue','mintcream','mistyrose','moccasin','navajowhite','navy','oldlace','olive',\n",
        "          'olivedrab','orange','orangered','orchid','palegoldenrod','palegreen','paleturquoise','palevioletred',\n",
        "          'papayawhip','peachpuff','peru','pink','plum','powderblue','purple','red','rosybrown','royalblue','saddlebrown',\n",
        "          'salmon','sandybrown','seagreen','seashell','sienna','silver','skyblue','slateblue','slategray','snow',\n",
        "          'springgreen','steelblue','tan','teal','thistle','tomato','turquoise','violet','wheat','white','whitesmoke'\n",
        "          ,'yellow','yellowgreen']\n",
        "\n",
        "\n",
        "#dict of existing pairs, will be used to replace all calls of old function with calls to new name\n",
        "# assuming that multiple funcs don't have the same new name\n",
        "func_name_pairs = dict()\n",
        "\n",
        "# rename all function defs or aliases (only rename custom functions, not things like print() or math.log)\n",
        "class FuncRename(libcst.CSTTransformer):\n",
        "\n",
        "  # rename function names in a \"def funcname: \" node\n",
        "  # FunctionDef node docs: (https://libcst.readthedocs.io/_/downloads/en/latest/pdf/#page=73&zoom=auto,-205,215)\n",
        "  def leave_FunctionDef(self, node: libcst.FunctionDef, updated_node: libcst.FunctionDef) -> libcst.FunctionDef:\n",
        "    if updated_node.name.value not in func_name_pairs:\n",
        "      new_name=random.choice(colors)\n",
        "      colors[colors.index(new_name)]=str(new_name+str(1))\n",
        "      func_name_pairs.update({updated_node.name.value: new_name})\n",
        "    # the name node in function def is a child node, thus to change function name via the FunctionDef parent node, use with_deep_changes via:\n",
        "    # (https://libcst.readthedocs.io/en/latest/nodes.html#libcst.CSTNode.with_deep_changes)\n",
        "\n",
        "    #print(\"Function def of \\'\"+updated_node.name.value+\"\\' has been renamed to \\'\"+func_name_pairs[updated_node.name.value]+\"\\'\")\n",
        "    return updated_node.with_deep_changes(updated_node.name, value=func_name_pairs[updated_node.name.value])\n",
        "\n",
        "  # rename function names in a \"import x as y\" node\n",
        "  # ImportAlias node docs: (https://libcst.readthedocs.io/_/downloads/en/latest/pdf/#page=78&zoom=auto,-205,314)\n",
        "  def leave_ImportAlias(self, node: libcst.ImportAlias, updated_node: libcst.ImportAlias) -> libcst.ImportAlias:\n",
        "    alias_node=updated_node.asname\n",
        "    if alias_node:\n",
        "      if alias_node.name.value not in func_name_pairs:\n",
        "        new_name=random.choice(colors)\n",
        "        colors[colors.index(new_name)]=str(new_name+str(1))\n",
        "        func_name_pairs.update({alias_node.name.value: new_name})\n",
        "\n",
        "      #print(\"Import alias of \\'\"+alias_node.name.value+\"\\' has been renamed to \\'\"+func_name_pairs[alias_node.name.value]+\"\\'\")\n",
        "      return updated_node.with_deep_changes(updated_node.asname.name, value=func_name_pairs[alias_node.name.value])\n",
        "    return updated_node\n",
        "\n",
        "\n",
        "# kept separate from FuncRename to do two-pass and prevent renaming predefined functions like print()\n",
        "class CallRename(libcst.CSTTransformer):\n",
        "\n",
        "  # rename function names in a function call node\n",
        "  # Call node docs: (https://libcst.readthedocs.io/_/downloads/en/latest/pdf/#page=53&zoom=auto,-205,721)\n",
        "  def leave_Call(self, node: libcst.Call, updated_node: libcst.Call) -> libcst.Call:\n",
        "\n",
        "    # Name node: (https://libcst.readthedocs.io/_/downloads/en/latest/pdf/#page=48&zoom=auto,-205,344)\n",
        "    if (type(updated_node.func)) is libcst._nodes.expression.Name:\n",
        "      if (updated_node.func.value) in func_name_pairs:\n",
        "\n",
        "        #print(\"Function call of \\'\"+updated_node.func.value+\"\\' has been renamed to \\'\"+func_name_pairs[updated_node.func.value]+\"\\'\")\n",
        "        return updated_node.with_deep_changes(updated_node.func, value=func_name_pairs[updated_node.func.value])\n",
        "\n",
        "    # for attributes, aka package.function(), only the package can be potentially custom (e.g. 'import math as blah', 'blah.log()')\n",
        "    # as if you import a subsect and rename it, it will be a normal function call (e.g. 'from math import log as blah', funct call would be\n",
        "    #                                                                                   'blah()' not 'math.blah()'\n",
        "    # Attribute node: (https://libcst.readthedocs.io/_/downloads/en/latest/pdf/#page=48&zoom=auto,-205,344)\n",
        "    elif (type(updated_node.func)) is libcst._nodes.expression.Attribute:\n",
        "      if updated_node.func.value.value in func_name_pairs:\n",
        "\n",
        "        #print(\"Function call of \\'\"+updated_node.func.value.value+\".\"+updated_node.func.attr.value+\"\\' has been renamed to \\'\"+func_name_pairs[updated_node.func.value.value]+\".\"+updated_node.func.attr.value+\"\\'\")\n",
        "        return updated_node.with_deep_changes(updated_node.func.value, value=func_name_pairs[updated_node.func.value.value])\n",
        "    return updated_node\n",
        "\n",
        "orig = libcst.parse_module(data)\n",
        "funcs_renamed = orig.visit(FuncRename())\n",
        "calls_renamed = funcs_renamed.visit(CallRename())\n",
        "\n",
        "#print(func_name_pairs)\n"
      ],
      "metadata": {
        "id": "iqnVh9uKtux7"
      },
      "execution_count": null,
      "outputs": []
    },
    {
      "cell_type": "markdown",
      "source": [
        "How to access code with renamed functions"
      ],
      "metadata": {
        "id": "5k0mKLJUM4nT"
      }
    },
    {
      "cell_type": "code",
      "source": [
        "# print converted code\n",
        "print(calls_renamed.code)"
      ],
      "metadata": {
        "id": "Bk5IU-8kMzPZ"
      },
      "execution_count": null,
      "outputs": []
    },
    {
      "cell_type": "code",
      "source": [
        "# or auto-download\n",
        "with open('renamed_funcs.py', 'w+') as file:\n",
        "    file.write(calls_renamed.code)\n",
        "file.close\n",
        "\n",
        "from google.colab import files\n",
        "files.download(\"renamed_funcs.py\")"
      ],
      "metadata": {
        "id": "Kx4MI_YlM4Dt"
      },
      "execution_count": null,
      "outputs": []
    },
    {
      "cell_type": "markdown",
      "source": [],
      "metadata": {
        "id": "cT-DuV7hwVA5"
      }
    },
    {
      "cell_type": "markdown",
      "source": [
        "# 'ast' Python Syntax Analyzer\n",
        "General applications of \"ast\" library (https://dev.to/marvinjude/abstract-syntax-trees-and-practical-applications-in-javascript-4a3)"
      ],
      "metadata": {
        "id": "F3pv4jJQwdBF"
      }
    },
    {
      "cell_type": "code",
      "source": [
        "file_path = \"md5 hash.py\"\n",
        "\n",
        "try:\n",
        "    with open(file_path, \"r\") as python_file:\n",
        "        print(f\"Opened {file_path} successfully\")\n",
        "\n",
        "        code_string = python_file.read()\n",
        "\n",
        "        try:\n",
        "            ast.parse(code_string)\n",
        "            print(f\"Python file: '{file_path}' is syntactically valid\")\n",
        "\n",
        "        except SyntaxError as error:\n",
        "            print(f\"Syntax error in file '{file_path}': {error}\")\n",
        "\n",
        "except FileNotFoundError:\n",
        "    print(f\"Error: The file '{file_path}' was not found.\")\n",
        "\n",
        "except IOError:\n",
        "    print(f\"Error: An error occurred while opening the file '{file_path}'\")\n",
        "\n"
      ],
      "metadata": {
        "id": "zflTO5Z6wstY"
      },
      "execution_count": null,
      "outputs": []
    },
    {
      "cell_type": "markdown",
      "source": [
        "# LibCST basic Functionality Tests (Bryan's Branch)\n",
        "General applications of LibCST (https://github.com/Instagram/LibCST)"
      ],
      "metadata": {
        "id": "lT6UaSoTilRN"
      }
    },
    {
      "cell_type": "code",
      "source": [
        "import libcst as cst\n",
        "from libcst.metadata import MetadataWrapper, ParentNodeProvider\n",
        "import google.generativeai as genai\n",
        "\n",
        "model = genai.GenerativeModel(\"gemini-1.5-flash\")\n",
        "\n",
        "genai.configure(api_key=\"custom-key\")\n",
        "\n",
        "filename = \"/content/sample_data/md5 hash.py\"\n",
        "with open(filename, \"r\") as file:\n",
        "    source_code = file.read()\n",
        "\n",
        "module = cst.parse_module(source_code)\n",
        "wrapped_module = MetadataWrapper(module)\n",
        "\n",
        "class VarRename(cst.CSTTransformer):\n",
        "    METADATA_DEPENDENCIES = (ParentNodeProvider,)\n",
        "\n",
        "    def __init__(self):\n",
        "        self.variable_map = {}\n",
        "\n",
        "    def get_synonym(self, original_varname):\n",
        "\n",
        "        if original_varname not in self.variable_map:\n",
        "\n",
        "            try:\n",
        "\n",
        "                synonym = model.generate_content(f\"Provide a one word synonym for '{original_varname}' in a coding context. This is for a school project and requires code variables to be swapped with one word.\")\n",
        "                synonym = synonym.candidates[0].content.parts[0].text.strip()\n",
        "                print(synonym)\n",
        "                self.variable_map[original_varname] = synonym.text  # Cache the synonym\n",
        "\n",
        "            except Exception as e:\n",
        "                print(f\"Error fetching synonym for '{original_varname}':\", e)\n",
        "                self.variable_map[original_varname] = original_varname  # Fallback to original name if there's an error\n",
        "\n",
        "        return self.variable_map[original_varname]\n",
        "\n",
        "    def leave_Name(self, original_node, updated_node):\n",
        "        # Access the parent node using metadata\n",
        "        parent = self.get_metadata(ParentNodeProvider, original_node)\n",
        "\n",
        "        # Check if the parent is an AssignTarget or Param (contexts where variables are defined)\n",
        "        if isinstance(parent, (cst.AssignTarget, cst.Param)):\n",
        "            new_name = self.get_synonym(updated_node.value)\n",
        "            return updated_node.with_changes(value=new_name)\n",
        "\n",
        "        return updated_node\n",
        "\n",
        "# Apply the transformation\n",
        "transformed_cst = wrapped_module.visit(VarRename())\n",
        "modified_code = transformed_cst.code\n",
        "\n",
        "# Write the modified code to a new file\n",
        "output_filename = \"your_script_renamed.py\"\n",
        "with open(output_filename, \"w\") as output_file:\n",
        "    output_file.write(modified_code)\n",
        "\n",
        "print(f\"Transformed code has been saved to {output_filename}\")\n"
      ],
      "metadata": {
        "id": "pENyZ9ZUisMY"
      },
      "execution_count": null,
      "outputs": []
    },
    {
      "cell_type": "code",
      "source": [],
      "metadata": {
        "id": "Elzr8mRTLR1a"
      },
      "execution_count": null,
      "outputs": []
    }
  ]
}
