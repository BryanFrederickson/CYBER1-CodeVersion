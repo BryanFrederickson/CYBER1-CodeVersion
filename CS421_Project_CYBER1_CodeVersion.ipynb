{
  "nbformat": 4,
  "nbformat_minor": 0,
  "metadata": {
    "colab": {
      "provenance": [],
      "private_outputs": true
    },
    "kernelspec": {
      "name": "python3",
      "display_name": "Python 3"
    },
    "language_info": {
      "name": "python"
    }
  },
  "cells": [
    {
      "cell_type": "code",
      "source": [],
      "metadata": {
        "id": "Whvy8hF4wY17"
      },
      "execution_count": null,
      "outputs": []
    },
    {
      "cell_type": "markdown",
      "source": [
        "Import neccesary libraries for **functionality**"
      ],
      "metadata": {
        "id": "NodYFnqwbkY5"
      }
    },
    {
      "cell_type": "code",
      "execution_count": null,
      "metadata": {
        "id": "X6V0GEu7Qqz_"
      },
      "outputs": [],
      "source": [
        "import tkinter as tk\n",
        "import ast as ast\n",
        "import matplotlib.pyplot as plt\n",
        "import numpy as np"
      ]
    },
    {
      "cell_type": "markdown",
      "source": [
        "# LibCST basic Functionality Tests\n",
        "General applications of LibCST (https://github.com/Instagram/LibCST)"
      ],
      "metadata": {
        "id": "ISORyIzKrIvy"
      }
    },
    {
      "cell_type": "markdown",
      "source": [
        "Setup functions, all required to be run in sequence for tests below"
      ],
      "metadata": {
        "id": "Pb9Es8NT7a3r"
      }
    },
    {
      "cell_type": "code",
      "source": [
        "# install libCST\n",
        "!pip install libcst"
      ],
      "metadata": {
        "id": "_Mjvm8ytrHcV"
      },
      "execution_count": null,
      "outputs": []
    },
    {
      "cell_type": "code",
      "source": [
        "# libCST functionality\n",
        "import libcst\n",
        "from libcst.tool import dump\n",
        "from libcst.metadata import MetadataWrapper, ParentNodeProvider"
      ],
      "metadata": {
        "id": "5aGm-a09lwmo"
      },
      "execution_count": null,
      "outputs": []
    },
    {
      "cell_type": "code",
      "source": [
        "# note that only one python file input is assumed, otherwise it only saves the data of the last file\n",
        "try:\n",
        "    from google.colab import files\n",
        "    uploaded = files.upload()\n",
        "except ImportError as e:\n",
        "    pass\n",
        "\n",
        "\n",
        "filenames = uploaded.keys()\n",
        "\n",
        "for file in filenames:\n",
        "    data = uploaded[file]"
      ],
      "metadata": {
        "id": "oY2ey_tFrngn"
      },
      "execution_count": null,
      "outputs": []
    },
    {
      "cell_type": "markdown",
      "source": [
        "Assorted LibCST tests (requires above file upload to work)"
      ],
      "metadata": {
        "id": "jAL4DV351nAC"
      }
    },
    {
      "cell_type": "markdown",
      "source": [
        "Dump the entire CST for the imported data"
      ],
      "metadata": {
        "id": "sHIDppx67RiD"
      }
    },
    {
      "cell_type": "code",
      "source": [
        "# convert given file to libCST (https://libcst.readthedocs.io/en/latest/parser.html)\n",
        "print(dump(libcst.parse_module(data)))"
      ],
      "metadata": {
        "id": "NmsGQBxyxnKx"
      },
      "execution_count": null,
      "outputs": []
    },
    {
      "cell_type": "markdown",
      "source": [
        "Print scrope of every function in the CST"
      ],
      "metadata": {
        "id": "oTK9aA3V7UiS"
      }
    },
    {
      "cell_type": "code",
      "source": [
        "# or convert and see scope (https://libcst.readthedocs.io/en/latest/scope_tutorial.html)\n",
        "wrapper = libcst.metadata.MetadataWrapper(libcst.parse_module(data))\n",
        "scopes = set(wrapper.resolve(libcst.metadata.ScopeProvider).values())\n",
        "for scope in scopes:\n",
        "    print(scope)"
      ],
      "metadata": {
        "id": "E7nC_6XezTzl"
      },
      "execution_count": null,
      "outputs": []
    },
    {
      "cell_type": "markdown",
      "source": [
        "Test function given by LibCST docs, prints all simple strings in a function if the function name is not 'foo'"
      ],
      "metadata": {
        "id": "EetHNwcZ7J0Q"
      }
    },
    {
      "cell_type": "code",
      "source": [
        "# if function name is not foo, print any simple strings found inside (https://libcst.readthedocs.io/en/latest/visitors.html#visit-and-leave-helper-functions)\n",
        "class FooingAround(libcst.CSTVisitor):\n",
        "    def visit_FunctionDef(self, node: libcst.FunctionDef) -> bool:\n",
        "        print(node.name.value)\n",
        "\n",
        "    def visit_SimpleString(self, node: libcst.SimpleString) -> None:\n",
        "        print(node.value)\n",
        "\n",
        "\n",
        "#demo = libcst.parse_module(\"'abc'\\n'123'\\ndef foo():\\n    'not printed'\\ndef blah():\\n    'printed'\")\n",
        "demo = libcst.parse_module(data)\n",
        "\n",
        "_ = demo.visit(FooingAround())"
      ],
      "metadata": {
        "id": "pg17AoWJmbcf"
      },
      "execution_count": null,
      "outputs": []
    },
    {
      "cell_type": "markdown",
      "source": [
        "Print function names found in CST"
      ],
      "metadata": {
        "id": "zGUKOcRb66Xp"
      }
    },
    {
      "cell_type": "code",
      "source": [
        "# print function names\n",
        "class FuncNames(libcst.CSTVisitor):\n",
        "    def visit_FunctionDef(self, node: libcst.FunctionDef) -> bool:\n",
        "        print(node.name.value)\n",
        "\n",
        "demo = libcst.parse_module(data)\n",
        "\n",
        "_ = demo.visit(FuncNames())"
      ],
      "metadata": {
        "id": "zoQW7mC8cw_O"
      },
      "execution_count": null,
      "outputs": []
    },
    {
      "cell_type": "markdown",
      "source": [
        "Print function names and import aliases found in CST"
      ],
      "metadata": {
        "id": "PkS766dP62f_"
      }
    },
    {
      "cell_type": "code",
      "source": [
        "# print function names and import aliases\n",
        "class FuncNames(libcst.CSTVisitor):\n",
        "    def visit_FunctionDef(self, node: libcst.FunctionDef) -> bool:\n",
        "        print(node.name.value+\" is a function def\")\n",
        "\n",
        "    def visit_ImportAlias(self, node: libcst.ImportAlias) -> bool:\n",
        "        curr=node.asname\n",
        "        # the import may not specify an alias, only print aliases of imported functions\n",
        "        # https://libcst.readthedocs.io/_/downloads/en/latest/pdf/#page=78&zoom=auto,-205,314\n",
        "        if curr:\n",
        "          print(curr.name.value+ \" is an alias of imported \"+node.name.value)\n",
        "\n",
        "\n",
        "#demo = libcst.parse_module(\"'abc'\\n'123'\\ndef foo():\\n    'not printed'\\ndef blah():\\n    'printed'\")\n",
        "demo = libcst.parse_module(data)\n",
        "\n",
        "_ = demo.visit(FuncNames())"
      ],
      "metadata": {
        "id": "d0AcB1iQvFXS"
      },
      "execution_count": null,
      "outputs": []
    },
    {
      "cell_type": "markdown",
      "source": [
        "Function renamer (simple implementation, incomplete, mainly to test transformers)"
      ],
      "metadata": {
        "id": "TERik_YL7BS_"
      }
    },
    {
      "cell_type": "code",
      "source": [
        "# edit all function names if encountered (note that changes with transforms happen on leaving a node, so name functions leave_NodeType)\n",
        "\n",
        "#dict of existing pairs, will be used to replace all calls of old function with calls to new name\n",
        "# assuming that multiple funcs don't have the same new name\n",
        "func_name_pairs = dict()\n",
        "\n",
        "# rename all functions (currently hello[counter of func defs encountered])\n",
        "class FuncRename(libcst.CSTTransformer):\n",
        "  count = 0\n",
        "  def leave_FunctionDef(self, node: libcst.FunctionDef, updated_node: libcst.FunctionDef) -> libcst.FunctionDef:\n",
        "    self.count += 1\n",
        "    curr_name = str('hello'+str(self.count))\n",
        "    func_name_pairs.update({node.name.value: curr_name})\n",
        "    updated_node = node\n",
        "    #return updated_node.with_changes(name=libcst.Name(curr_name+libcst.ensure_type(updated_node.name, libcst.Name).value))\n",
        "\n",
        "    # the name node in function def is a child node, thus to change function name via the FunctionDef parent node, use with_deep_changes via:\n",
        "    # https://libcst.readthedocs.io/en/latest/nodes.html#libcst.CSTNode.with_deep_changes)\n",
        "    return updated_node.with_deep_changes(node.name, value=curr_name)\n",
        "\n",
        "orig = libcst.parse_module(data)\n",
        "edited = orig.visit(FuncRename())\n",
        "\n",
        "\n",
        "# print function names\n",
        "class FuncNames(libcst.CSTVisitor):\n",
        "    def visit_FunctionDef(self, node: libcst.FunctionDef) -> bool:\n",
        "        print(node.name.value)\n",
        "\n",
        "blah = orig.visit(FuncNames())\n",
        "blah = edited.visit(FuncNames())\n",
        "print(func_name_pairs)"
      ],
      "metadata": {
        "id": "iqnVh9uKtux7"
      },
      "execution_count": null,
      "outputs": []
    },
    {
      "cell_type": "markdown",
      "source": [],
      "metadata": {
        "id": "cT-DuV7hwVA5"
      }
    },
    {
      "cell_type": "markdown",
      "source": [
        "# 'ast' Python Syntax Analyzer\n",
        "General applications of \"ast\" library (https://dev.to/marvinjude/abstract-syntax-trees-and-practical-applications-in-javascript-4a3)"
      ],
      "metadata": {
        "id": "F3pv4jJQwdBF"
      }
    },
    {
      "cell_type": "code",
      "source": [
        "file_path = \"md5 hash.py\"\n",
        "\n",
        "try:\n",
        "    with open(file_path, \"r\") as python_file:\n",
        "        print(f\"Opened {file_path} successfully\")\n",
        "\n",
        "        code_string = python_file.read()\n",
        "\n",
        "        try:\n",
        "            ast.parse(code_string)\n",
        "            print(f\"Python file: '{file_path}' is syntactically valid\")\n",
        "\n",
        "        except SyntaxError as error:\n",
        "            print(f\"Syntax error in file '{file_path}': {error}\")\n",
        "\n",
        "except FileNotFoundError:\n",
        "    print(f\"Error: The file '{file_path}' was not found.\")\n",
        "\n",
        "except IOError:\n",
        "    print(f\"Error: An error occurred while opening the file '{file_path}'\")\n",
        "\n"
      ],
      "metadata": {
        "id": "zflTO5Z6wstY"
      },
      "execution_count": null,
      "outputs": []
    },
    {
      "cell_type": "markdown",
      "source": [
        "# LibCST basic Functionality Tests (Bryan's Branch)\n",
        "General applications of LibCST (https://github.com/Instagram/LibCST)"
      ],
      "metadata": {
        "id": "lT6UaSoTilRN"
      }
    },
    {
      "cell_type": "code",
      "source": [
        "import libcst as cst\n",
        "from libcst.metadata import MetadataWrapper, ParentNodeProvider\n",
        "import openai\n",
        "import os\n",
        "\n",
        "# key hidden for security when uploading to repo\n",
        "openai.api_key = 'your-key-here'\n",
        "\n",
        "filename = \"/content/sample_data/md5 hash.py\"\n",
        "output_filename = \"/content/sample_data/md5_hash_transformed.py\"\n",
        "\n",
        "with open(filename, \"r\") as file:\n",
        "    source_code = file.read()\n",
        "\n",
        "module = cst.parse_module(source_code)\n",
        "wrapped_module = MetadataWrapper(module)\n",
        "\n",
        "class VarRename(cst.CSTTransformer):\n",
        "\n",
        "    METADATA_DEPENDENCIES = (ParentNodeProvider,)\n",
        "\n",
        "    def GPT_Synonym(self, original_varname):\n",
        "        response = openai.chat.completions.create(\n",
        "            model=\"gpt-3.5-turbo\",\n",
        "            messages=[{\"role\": \"user\", \"content\": f\"Give a synonym for the variable name '{original_varname}' in programming context.\"}],\n",
        "            max_tokens=5,\n",
        "            temperature=0.5\n",
        "        )\n",
        "        synonym = response['choices'][0]['message']['content'].strip()\n",
        "        return synonym\n",
        "\n",
        "    def leave_Name(self, original_node, updated_node):\n",
        "\n",
        "        parent = self.get_metadata(ParentNodeProvider, original_node)\n",
        "\n",
        "        if isinstance(parent, (cst.AssignTarget, cst.Param, cst.If, cst.For, cst.Name)):\n",
        "            new_name = self.GPT_Synonym(updated_node.value)\n",
        "            return updated_node.with_changes(value=new_name)\n",
        "\n",
        "        return updated_node\n",
        "\n",
        "transformed_CST = wrapped_module.visit(VarRename())\n",
        "modified_code = transformed_CST.code\n",
        "\n",
        "with open(output_filename, \"w\") as output_file:\n",
        "    output_file.write(modified_code)\n",
        "\n",
        "print(f\"Transformed code has been saved to {output_filename}\")\n",
        "\n"
      ],
      "metadata": {
        "id": "pENyZ9ZUisMY"
      },
      "execution_count": null,
      "outputs": []
    },
    {
      "cell_type": "code",
      "source": [],
      "metadata": {
        "id": "Elzr8mRTLR1a"
      },
      "execution_count": null,
      "outputs": []
    }
  ]
}