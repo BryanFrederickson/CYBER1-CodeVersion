{
  "nbformat": 4,
  "nbformat_minor": 0,
  "metadata": {
    "colab": {
      "provenance": [],
      "private_outputs": true
    },
    "kernelspec": {
      "name": "python3",
      "display_name": "Python 3"
    },
    "language_info": {
      "name": "python"
    }
  },
  "cells": [
    {
      "cell_type": "code",
      "source": [],
      "metadata": {
        "id": "Whvy8hF4wY17"
      },
      "execution_count": null,
      "outputs": []
    },
    {
      "cell_type": "markdown",
      "source": [
        "Import neccesary libraries for **functionality**"
      ],
      "metadata": {
        "id": "NodYFnqwbkY5"
      }
    },
    {
      "cell_type": "code",
      "execution_count": null,
      "metadata": {
        "id": "X6V0GEu7Qqz_"
      },
      "outputs": [],
      "source": [
        "import tkinter as tk\n",
        "import ast as ast\n",
        "import matplotlib.pyplot as plt\n",
        "import numpy as np"
      ]
    },
    {
      "cell_type": "markdown",
      "source": [
        "# LibCST basic Functionality Tests\n",
        "General applications of LibCST (https://github.com/Instagram/LibCST)"
      ],
      "metadata": {
        "id": "ISORyIzKrIvy"
      }
    },
    {
      "cell_type": "code",
      "source": [
        "# install libCST\n",
        "!pip install libcst"
      ],
      "metadata": {
        "id": "_Mjvm8ytrHcV"
      },
      "execution_count": null,
      "outputs": []
    },
    {
      "cell_type": "code",
      "source": [
        "# libCST functionality\n",
        "import libcst\n",
        "from libcst.tool import dump"
      ],
      "metadata": {
        "id": "5aGm-a09lwmo"
      },
      "execution_count": null,
      "outputs": []
    },
    {
      "cell_type": "code",
      "source": [
        "# test small LibCST conversion\n",
        "print(dump(libcst.parse_expression(\"(1 + 2)\")))"
      ],
      "metadata": {
        "id": "cl89b42rrXy6"
      },
      "execution_count": null,
      "outputs": []
    },
    {
      "cell_type": "code",
      "source": [
        "# note that only one python file input is assumed, otherwise it only saves the data of the last file\n",
        "try:\n",
        "    from google.colab import files\n",
        "    uploaded = files.upload()\n",
        "except ImportError as e:\n",
        "    pass\n",
        "\n",
        "\n",
        "filenames = uploaded.keys()\n",
        "\n",
        "for file in filenames:\n",
        "    data = uploaded[file]"
      ],
      "metadata": {
        "id": "oY2ey_tFrngn"
      },
      "execution_count": null,
      "outputs": []
    },
    {
      "cell_type": "markdown",
      "source": [
        "Assorted LibCST tests (requires above file upload to work)"
      ],
      "metadata": {
        "id": "jAL4DV351nAC"
      }
    },
    {
      "cell_type": "code",
      "source": [
        "# convert given file to libCST (https://libcst.readthedocs.io/en/latest/parser.html)\n",
        "print(dump(libcst.parse_module(data)))"
      ],
      "metadata": {
        "id": "NmsGQBxyxnKx"
      },
      "execution_count": null,
      "outputs": []
    },
    {
      "cell_type": "code",
      "source": [
        "# or convert and see scope (https://libcst.readthedocs.io/en/latest/scope_tutorial.html)\n",
        "wrapper = libcst.metadata.MetadataWrapper(libcst.parse_module(data))\n",
        "scopes = set(wrapper.resolve(libcst.metadata.ScopeProvider).values())\n",
        "for scope in scopes:\n",
        "    print(scope)"
      ],
      "metadata": {
        "id": "E7nC_6XezTzl"
      },
      "execution_count": null,
      "outputs": []
    },
    {
      "cell_type": "code",
      "source": [
        "# if function name is not foo, print any simple strings found inside (https://libcst.readthedocs.io/en/latest/visitors.html#visit-and-leave-helper-functions)\n",
        "class FooingAround(libcst.CSTVisitor):\n",
        "    def visit_FunctionDef(self, node: libcst.FunctionDef) -> bool:\n",
        "        print(node.name.value)\n",
        "\n",
        "    def visit_SimpleString(self, node: libcst.SimpleString) -> None:\n",
        "        print(node.value)\n",
        "\n",
        "\n",
        "#demo = libcst.parse_module(\"'abc'\\n'123'\\ndef foo():\\n    'not printed'\\ndef blah():\\n    'printed'\")\n",
        "demo = libcst.parse_module(data)\n",
        "\n",
        "_ = demo.visit(FooingAround())"
      ],
      "metadata": {
        "id": "pg17AoWJmbcf"
      },
      "execution_count": null,
      "outputs": []
    },
    {
      "cell_type": "code",
      "source": [
        "# print function names\n",
        "class FuncNames(libcst.CSTVisitor):\n",
        "    def visit_FunctionDef(self, node: libcst.FunctionDef) -> bool:\n",
        "        print(node.name.value)\n",
        "\n",
        "\n",
        "#demo = libcst.parse_module(\"'abc'\\n'123'\\ndef foo():\\n    'not printed'\\ndef blah():\\n    'printed'\")\n",
        "demo = libcst.parse_module(data)\n",
        "\n",
        "_ = demo.visit(FuncNames())"
      ],
      "metadata": {
        "id": "d0AcB1iQvFXS"
      },
      "execution_count": null,
      "outputs": []
    },
    {
      "cell_type": "code",
      "source": [
        "# edit all function names if encountered (note that changes with transforms happen on leaving a node, so name functions leave_NodeType)\n",
        "\n",
        "#dict of existing pairs, will be used to replace all calls of old function with calls to new name\n",
        "# assuming that multiple funcs don't have the same new name\n",
        "func_name_pairs = dict()\n",
        "\n",
        "# rename all functions (currently hello[counter of func defs encountered])\n",
        "class FuncRename(libcst.CSTTransformer):\n",
        "  count = 0\n",
        "  def leave_FunctionDef(self, node: libcst.FunctionDef, updated_node: libcst.FunctionDef) -> libcst.FunctionDef:\n",
        "    self.count += 1\n",
        "    curr_name = str('hello'+str(self.count))\n",
        "    func_name_pairs.update({node.name.value: curr_name})\n",
        "    updated_node = node\n",
        "    #return updated_node.with_changes(name=libcst.Name(curr_name+libcst.ensure_type(updated_node.name, libcst.Name).value))\n",
        "\n",
        "    # the name node in function def is a child node, thus to change function name via the FunctionDef parent node, use with_deep_changes via:\n",
        "    # https://libcst.readthedocs.io/en/latest/nodes.html#libcst.CSTNode.with_deep_changes)\n",
        "    return updated_node.with_deep_changes(node.name, value=curr_name)\n",
        "\n",
        "orig = libcst.parse_module(data)\n",
        "edited = orig.visit(FuncRename())\n",
        "\n",
        "\n",
        "# print function names\n",
        "class FuncNames(libcst.CSTVisitor):\n",
        "    def visit_FunctionDef(self, node: libcst.FunctionDef) -> bool:\n",
        "        print(node.name.value)\n",
        "\n",
        "blah = orig.visit(FuncNames())\n",
        "blah = edited.visit(FuncNames())\n",
        "print(func_name_pairs)"
      ],
      "metadata": {
        "id": "iqnVh9uKtux7"
      },
      "execution_count": null,
      "outputs": []
    },
    {
      "cell_type": "markdown",
      "source": [],
      "metadata": {
        "id": "cT-DuV7hwVA5"
      }
    },
    {
      "cell_type": "markdown",
      "source": [
        "# 'ast' Python Syntax Analyzer\n",
        "General applications of \"ast\" library (https://dev.to/marvinjude/abstract-syntax-trees-and-practical-applications-in-javascript-4a3)"
      ],
      "metadata": {
        "id": "F3pv4jJQwdBF"
      }
    },
    {
      "cell_type": "code",
      "source": [
        "file_path = \"md5 hash.py\"\n",
        "\n",
        "try:\n",
        "    with open(file_path, \"r\") as python_file:\n",
        "        print(f\"Opened {file_path} successfully\")\n",
        "\n",
        "        code_string = python_file.read()\n",
        "\n",
        "        try:\n",
        "            ast.parse(code_string)\n",
        "            print(f\"Python file: '{file_path}' is syntactically valid\")\n",
        "\n",
        "        except SyntaxError as error:\n",
        "            print(f\"Syntax error in file '{file_path}': {error}\")\n",
        "\n",
        "except FileNotFoundError:\n",
        "    print(f\"Error: The file '{file_path}' was not found.\")\n",
        "\n",
        "except IOError:\n",
        "    print(f\"Error: An error occurred while opening the file '{file_path}'\")\n",
        "\n"
      ],
      "metadata": {
        "id": "zflTO5Z6wstY"
      },
      "execution_count": null,
      "outputs": []
    },
    {
      "cell_type": "markdown",
      "source": [
        "# LibCST basic Functionality Tests (Bryan's Branch)\n",
        "General applications of LibCST (https://github.com/Instagram/LibCST)"
      ],
      "metadata": {
        "id": "lT6UaSoTilRN"
      }
    },
    {
      "cell_type": "code",
      "source": [],
      "metadata": {
        "id": "pENyZ9ZUisMY"
      },
      "execution_count": null,
      "outputs": []
    }
  ]
}