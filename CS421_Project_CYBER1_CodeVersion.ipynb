{
  "nbformat": 4,
  "nbformat_minor": 0,
  "metadata": {
    "colab": {
      "provenance": [],
      "private_outputs": true
    },
    "kernelspec": {
      "name": "python3",
      "display_name": "Python 3"
    },
    "language_info": {
      "name": "python"
    }
  },
  "cells": [
    {
      "cell_type": "markdown",
      "source": [
        "Import neccesary libraries for **functionality**"
      ],
      "metadata": {
        "id": "NodYFnqwbkY5"
      }
    },
    {
      "cell_type": "code",
      "execution_count": null,
      "metadata": {
        "id": "X6V0GEu7Qqz_"
      },
      "outputs": [],
      "source": [
        "import tkinter as tk\n",
        "import ast as ast\n",
        "import matplotlib.pyplot as plt\n",
        "import numpy as np"
      ]
    },
    {
      "cell_type": "markdown",
      "source": [
        "Base GUI \"tkinter\" feature"
      ],
      "metadata": {
        "id": "0hd7h1S5bbhF"
      }
    },
    {
      "cell_type": "code",
      "source": [],
      "metadata": {
        "id": "Mykuft2tbjfh"
      },
      "execution_count": null,
      "outputs": []
    },
    {
      "cell_type": "markdown",
      "source": [
        "# LibCST basic Functionality Tests\n",
        "General applications of LibCST (https://github.com/Instagram/LibCST)"
      ],
      "metadata": {
        "id": "ISORyIzKrIvy"
      }
    },
    {
      "cell_type": "code",
      "source": [
        "# install libCST\n",
        "!pip install libcst\n",
        "\n",
        "# libCST functionality\n",
        "import libcst as cst\n",
        "from libcst.tool import dump"
      ],
      "metadata": {
        "id": "_Mjvm8ytrHcV"
      },
      "execution_count": null,
      "outputs": []
    },
    {
      "cell_type": "code",
      "source": [
        "# test small LibCST conversion\n",
        "print(dump(cst.parse_expression(\"(1 + 2)\")))"
      ],
      "metadata": {
        "id": "cl89b42rrXy6"
      },
      "execution_count": null,
      "outputs": []
    },
    {
      "cell_type": "code",
      "source": [
        "# note that only one python file input is assumed, otherwise it only saves the data of the last file\n",
        "try:\n",
        "    from google.colab import files\n",
        "    uploaded = files.upload()\n",
        "except ImportError as e:\n",
        "    pass\n",
        "\n",
        "\n",
        "filenames = uploaded.keys()\n",
        "\n",
        "for file in filenames:\n",
        "    data = uploaded[file]"
      ],
      "metadata": {
        "id": "oY2ey_tFrngn"
      },
      "execution_count": null,
      "outputs": []
    },
    {
      "cell_type": "markdown",
      "source": [
        "Assorted LibCST tests"
      ],
      "metadata": {
        "id": "jAL4DV351nAC"
      }
    },
    {
      "cell_type": "code",
      "source": [
        "# convert given file to libCST (https://libcst.readthedocs.io/en/latest/parser.html)\n",
        "print(dump(cst.parse_module(data)))"
      ],
      "metadata": {
        "id": "NmsGQBxyxnKx"
      },
      "execution_count": null,
      "outputs": []
    },
    {
      "cell_type": "code",
      "source": [
        "# or convert and see scope (https://libcst.readthedocs.io/en/latest/scope_tutorial.html)\n",
        "wrapper = cst.metadata.MetadataWrapper(cst.parse_module(data))\n",
        "scopes = set(wrapper.resolve(cst.metadata.ScopeProvider).values())\n",
        "for scope in scopes:\n",
        "    print(scope)"
      ],
      "metadata": {
        "id": "E7nC_6XezTzl"
      },
      "execution_count": null,
      "outputs": []
    }
  ]
}